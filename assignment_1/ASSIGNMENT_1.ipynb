{
 "cells": [
  {
   "cell_type": "code",
   "execution_count": 2,
   "id": "1080cc96",
   "metadata": {},
   "outputs": [],
   "source": []
  },
  {
   "cell_type": "code",
   "execution_count": 5,
   "id": "fbd6f442-8862-41ab-84ad-802da4466c21",
   "metadata": {},
   "outputs": [
    {
     "data": {
      "text/plain": [
       "False"
      ]
     },
     "execution_count": 5,
     "metadata": {},
     "output_type": "execute_result"
    }
   ],
   "source": [
    "search_term = ['ásdf', 'ádsf']\n",
    "isinstance(search_term, str)"
   ]
  },
  {
   "cell_type": "code",
   "execution_count": 11,
   "id": "755554ab",
   "metadata": {},
   "outputs": [
    {
     "name": "stdout",
     "output_type": "stream",
     "text": [
      "The word 'you' appears 1129 time(s).\n",
      "\n"
     ]
    }
   ],
   "source": [
    "import re\n",
    "\n",
    "def find_occurences(text, search_term):\n",
    "    pattern = r'\\b{}\\b'.format(re.escape(search_term))\n",
    "    matches = re.findall(pattern, text)\n",
    "    count = len(matches)\n",
    "    return count \n",
    "\n",
    "\n",
    "def word_count_summary(file_path, search_term):\n",
    "    with open(file_path, 'r') as file:\n",
    "        text = file.read()\n",
    "\n",
    "    \n",
    "    if isinstance(search_term, str):\n",
    "        count = find_occurences(text=text, search_term=search_term)\n",
    "        summary = \"The word '{}' appears {} time(s).\\n\".format(search_term, count)\n",
    "    elif isinstance(search_term, list):\n",
    "        ...\n",
    "    else:\n",
    "        raise ValueError(\"search_term should one of: str or list[str]\")\n",
    "    return summary\n",
    "\n",
    "\n",
    "file_path = 'data/pride_and_prejudice.txt'\n",
    "\n",
    "result = word_count_summary(file_path, \"you\")\n",
    "print(result)"
   ]
  },
  {
   "cell_type": "code",
   "execution_count": 13,
   "id": "10c51c84",
   "metadata": {
    "scrolled": true
   },
   "outputs": [
    {
     "data": {
      "text/plain": [
       "{'a': 2, 'b': 2, 'c': 1}"
      ]
     },
     "execution_count": 13,
     "metadata": {},
     "output_type": "execute_result"
    }
   ],
   "source": [
    "text = \"a a b b c d e f f\"\n",
    "search_term = ['a', 'b', 'c']\n",
    "count_dict = {}\n",
    "for term in search_term:\n",
    "    count = find_occurences(text=text, search_term=term)\n",
    "    count_dict[term] = count\n",
    "count_dict"
   ]
  },
  {
   "cell_type": "code",
   "execution_count": 17,
   "id": "d8708c1d",
   "metadata": {},
   "outputs": [],
   "source": [
    "count_dict = {\n",
    "    'aqwert': 2,\n",
    "    'bqwertqwrerwewr': 2,\n",
    "    'c': 1,\n",
    "}"
   ]
  },
  {
   "cell_type": "code",
   "execution_count": 20,
   "id": "e704c149",
   "metadata": {},
   "outputs": [
    {
     "data": {
      "text/plain": [
       "15"
      ]
     },
     "execution_count": 20,
     "metadata": {},
     "output_type": "execute_result"
    }
   ],
   "source": [
    "# list comprehension\n",
    "left_column_width = max([\n",
    "    len(i) for i in count_dict.keys()\n",
    "])\n",
    "right_column_width = max([\n",
    "    len(i) for i in count_dict.values()\n",
    "])"
   ]
  },
  {
   "cell_type": "code",
   "execution_count": null,
   "id": "f9e529db-8a9f-49e9-b72d-a2cad5b8c409",
   "metadata": {},
   "outputs": [],
   "source": []
  }
 ],
 "metadata": {
  "kernelspec": {
   "display_name": "Python 3 (ipykernel)",
   "language": "python",
   "name": "python3"
  },
  "language_info": {
   "codemirror_mode": {
    "name": "ipython",
    "version": 3
   },
   "file_extension": ".py",
   "mimetype": "text/x-python",
   "name": "python",
   "nbconvert_exporter": "python",
   "pygments_lexer": "ipython3",
   "version": "3.12.0"
  }
 },
 "nbformat": 4,
 "nbformat_minor": 5
}
