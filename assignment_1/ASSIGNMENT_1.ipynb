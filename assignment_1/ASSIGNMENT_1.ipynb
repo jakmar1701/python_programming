{
 "cells": [
  {
   "cell_type": "code",
   "execution_count": 59,
   "id": "755554ab",
   "metadata": {},
   "outputs": [],
   "source": [
    "import re\n",
    "\n",
    "\n",
    "def find_occurrences(text, search_term):\n",
    "    if \" \" in search_term:\n",
    "        raise Exception(f\"'{search_term}' is not a word\")\n",
    "    search_term = search_term.lower()\n",
    "    pattern = r'\\b{}\\b'.format(re.escape(search_term))\n",
    "    matches = re.findall(pattern, text)\n",
    "    count = len(matches)\n",
    "    return count\n",
    "\n",
    "\n",
    "def get_columns_width(d, left_header, right_header, left_footer, right_footer):\n",
    "    left_column_width = max([\n",
    "        len(left_header),\n",
    "        len(left_footer),\n",
    "        max_string_len(d.keys())\n",
    "    ])\n",
    "    right_column_width = max([\n",
    "        len(right_header),\n",
    "        len(right_footer),\n",
    "        max_string_len([str(v) for v in d.values()])\n",
    "    ])\n",
    "    return left_column_width, right_column_width\n",
    "\n",
    "\n",
    "def max_string_len(l):\n",
    "    return max([len(i) for i in l])\n",
    "\n",
    "\n",
    "def pad_word(word, colum_width, direction):\n",
    "    assert direction in ('left', 'right'), f\"direction shoud be one of ('left', 'right') instead of '{direction}'\"\n",
    "    padding = \" \" * (colum_width - len(word))\n",
    "    if direction == 'left':\n",
    "        padded_word = \" \" + word + padding + \" \"\n",
    "    elif direction == 'right':\n",
    "        padded_word = \" \" + padding + word + \" \"\n",
    "    return padded_word\n",
    "\n",
    "\n",
    "def pad_line(left, right, left_column_width, right_column_width):\n",
    "    padded_left = pad_word(word=left, colum_width=left_column_width, direction='left')\n",
    "    padded_right = pad_word(word=right, colum_width=right_column_width, direction='right')\n",
    "    line = f\"|{padded_left}|{padded_right}|\"\n",
    "    return line\n",
    "\n",
    "\n",
    "def generate_markdown_table(d):\n",
    "    left_header = \"WORD\"\n",
    "    right_header = \"COUNT\"\n",
    "    left_footer = \"TOTAL\"\n",
    "    right_footer = str(sum(d.values()))\n",
    "\n",
    "    left_column_width, right_column_width = get_columns_width(\n",
    "        d=d,\n",
    "        left_header=left_header,\n",
    "        right_header=right_header,\n",
    "        left_footer=left_footer,\n",
    "        right_footer=right_footer,\n",
    "    )\n",
    "\n",
    "    separator_line = f\"|{'-' * (left_column_width + 2)}|{'-' * (right_column_width + 2)}|\"\n",
    "\n",
    "    header_line = pad_line(left_header, right_header, left_column_width, right_column_width)\n",
    "    footer_line = pad_line(left_footer, right_footer, left_column_width, right_column_width)\n",
    "\n",
    "    content_lines = []\n",
    "    for left, right in d.items():\n",
    "        right = str(right)\n",
    "        content_line = pad_line(left, right, left_column_width, right_column_width)\n",
    "        content_lines.append(content_line)\n",
    "\n",
    "    markdown_table_rows = [\n",
    "        separator_line,\n",
    "        header_line,\n",
    "        separator_line,\n",
    "        *content_lines,\n",
    "        separator_line,\n",
    "        footer_line,\n",
    "        separator_line,\n",
    "    ]\n",
    "    summary = \"\\n\".join(markdown_table_rows)\n",
    "    return summary\n",
    "\n",
    "\n",
    "def word_count_summary(file_path, search_term):\n",
    "        \n",
    "    with open(file_path, 'r') as file:\n",
    "        text = file.read().lower()\n",
    "        # I'm lowering the case of the text and search term to make this search function case-insensitive\n",
    "    try:\n",
    "        if isinstance(search_term, str):\n",
    "            count = find_occurrences(text=text, search_term=search_term)\n",
    "            summary = \"The word '{}' appears {} time(s).\\n\".format(search_term.lower(), count)\n",
    "        elif isinstance(search_term, list):\n",
    "            count_dict = {\n",
    "                term: find_occurrences(text=text, search_term=term) for term in search_term\n",
    "            }\n",
    "            summary = generate_markdown_table(d=count_dict)\n",
    "        else:\n",
    "            raise ValueError(\"search_term should one of: str or list[str]\")\n",
    "    except Exception as e:\n",
    "        return e\n",
    "    return summary"
   ]
  },
  {
   "cell_type": "code",
   "execution_count": 60,
   "id": "10c51c84",
   "metadata": {
    "scrolled": true
   },
   "outputs": [],
   "source": [
    "file_path = 'data/pride_and_prejudice.txt'"
   ]
  },
  {
   "cell_type": "code",
   "execution_count": 61,
   "id": "29f9f645-6077-4be2-a5a9-1a9d13732fef",
   "metadata": {},
   "outputs": [
    {
     "name": "stdout",
     "output_type": "stream",
     "text": [
      "The word 'you' appears 1326 time(s).\n",
      "\n"
     ]
    }
   ],
   "source": [
    "print(word_count_summary(file_path, \"You\"))"
   ]
  },
  {
   "cell_type": "code",
   "execution_count": 62,
   "id": "1a27fe38-b7bc-4f86-9841-2257b4720ef8",
   "metadata": {},
   "outputs": [
    {
     "name": "stdout",
     "output_type": "stream",
     "text": [
      "The word 'you' appears 1326 time(s).\n",
      "\n"
     ]
    }
   ],
   "source": [
    "# Case insensitive search\n",
    "\n",
    "print(word_count_summary(file_path, \"you\"))"
   ]
  },
  {
   "cell_type": "code",
   "execution_count": 63,
   "id": "13ad92a1-bbb0-4b62-864b-8bff5457fb05",
   "metadata": {},
   "outputs": [
    {
     "name": "stdout",
     "output_type": "stream",
     "text": [
      "The word 'yuo' appears 0 time(s).\n",
      "\n"
     ]
    }
   ],
   "source": [
    "# Works even if there is no results\n",
    "\n",
    "print(word_count_summary(file_path, \"yuo\"))"
   ]
  },
  {
   "cell_type": "code",
   "execution_count": 64,
   "id": "00c3a48c-82ff-40ab-8868-7839dd535507",
   "metadata": {},
   "outputs": [
    {
     "name": "stdout",
     "output_type": "stream",
     "text": [
      "'two words' is not a word\n"
     ]
    }
   ],
   "source": [
    "# Handles invalid input\n",
    "print(word_count_summary(file_path, \"two words\"))"
   ]
  },
  {
   "cell_type": "code",
   "execution_count": 69,
   "id": "ccbaf32d-9235-4fe8-9e52-5e4958815c96",
   "metadata": {},
   "outputs": [
    {
     "name": "stdout",
     "output_type": "stream",
     "text": [
      "|-----------|-------|\n",
      "| WORD      | COUNT |\n",
      "|-----------|-------|\n",
      "| you       |  1326 |\n",
      "| are       |   338 |\n",
      "| so        |   592 |\n",
      "| beautiful |    15 |\n",
      "|-----------|-------|\n",
      "| TOTAL     |  2271 |\n",
      "|-----------|-------|\n"
     ]
    }
   ],
   "source": [
    "# Works in list version\n",
    "print(word_count_summary(file_path, [\"you\", \"are\", \"so\", \"beautiful\"]))"
   ]
  },
  {
   "cell_type": "code",
   "execution_count": 70,
   "id": "0653d3aa-1c79-482e-bc46-42b4448ba9fe",
   "metadata": {},
   "outputs": [
    {
     "name": "stdout",
     "output_type": "stream",
     "text": [
      "'so beautiful' is not a word\n"
     ]
    }
   ],
   "source": [
    "# Handles invalid input in list version\n",
    "print(word_count_summary(file_path, [\"you\", \"are\", \"so beautiful\"]))"
   ]
  },
  {
   "cell_type": "code",
   "execution_count": 87,
   "id": "54c32c8f-0903-4904-bc1d-12311853614b",
   "metadata": {},
   "outputs": [
    {
     "name": "stdout",
     "output_type": "stream",
     "text": [
      "|-------------------|-------|\n",
      "| WORD              | COUNT |\n",
      "|-------------------|-------|\n",
      "| communicativeness |     1 |\n",
      "| misrepresentation |     1 |\n",
      "| the               |  4333 |\n",
      "|-------------------|-------|\n",
      "| TOTAL             |  4335 |\n",
      "|-------------------|-------|\n"
     ]
    }
   ],
   "source": [
    "# Handles column width automatically for longer words\n",
    "print(word_count_summary(file_path, [\"communicativeness\", \"misrepresentation\", \"the\"]))"
   ]
  }
 ],
 "metadata": {
  "kernelspec": {
   "display_name": "Python 3 (ipykernel)",
   "language": "python",
   "name": "python3"
  },
  "language_info": {
   "codemirror_mode": {
    "name": "ipython",
    "version": 3
   },
   "file_extension": ".py",
   "mimetype": "text/x-python",
   "name": "python",
   "nbconvert_exporter": "python",
   "pygments_lexer": "ipython3",
   "version": "3.8.16"
  }
 },
 "nbformat": 4,
 "nbformat_minor": 5
}
