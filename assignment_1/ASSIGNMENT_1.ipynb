{
 "cells": [
  {
   "cell_type": "code",
   "execution_count": 2,
   "id": "1080cc96",
   "metadata": {},
   "outputs": [],
   "source": [
    "import re\n",
    "\n",
    "def word_count_summary(file_path, search_terms):\n",
    "    \n",
    "    with open(file_path, 'r') as file:\n",
    "        text = file.read()\n",
    "        \n",
    "\n",
    "    "
   ]
  },
  {
   "cell_type": "code",
   "execution_count": null,
   "id": "88df9fec",
   "metadata": {},
   "outputs": [],
   "source": []
  },
  {
   "cell_type": "code",
   "execution_count": 13,
   "id": "755554ab",
   "metadata": {},
   "outputs": [
    {
     "name": "stdout",
     "output_type": "stream",
     "text": [
      "The word 'She' appears 322 time(s).\n",
      "\n"
     ]
    }
   ],
   "source": [
    "import re\n",
    "\n",
    "def word_count_summary(file_path, search_term):\n",
    " \n",
    "    with open(file_path, 'r') as file:\n",
    "        text = file.read()\n",
    "\n",
    "\n",
    "    pattern = r'\\b{}\\b'.format(re.escape(search_term))\n",
    "    matches = re.findall(pattern, text)\n",
    "    count = len(matches)    \n",
    "\n",
    "    summary = \"The word '{}' appears {} time(s).\\n\".format(search_term, count)\n",
    "\n",
    "    return summary\n",
    "\n",
    "\n",
    "file_path = 'pride_and_prejudice.txt'\n",
    "\n",
    "result = word_count_summary(file_path, 'She')\n",
    "print(result)"
   ]
  },
  {
   "cell_type": "code",
   "execution_count": null,
   "id": "e912c7db",
   "metadata": {},
   "outputs": [],
   "source": []
  },
  {
   "cell_type": "code",
   "execution_count": null,
   "id": "76cdb423",
   "metadata": {},
   "outputs": [],
   "source": []
  },
  {
   "cell_type": "code",
   "execution_count": 10,
   "id": "10c51c84",
   "metadata": {
    "scrolled": true
   },
   "outputs": [
    {
     "name": "stdout",
     "output_type": "stream",
     "text": [
      "\n",
      "She     322\n",
      "she    1369\n",
      "dtype: int64\n"
     ]
    }
   ],
   "source": [
    "import re\n",
    "import pandas as pd\n",
    "\n",
    "def word_count_summary(file_path, search_terms):\n",
    " \n",
    "    with open(file_path, 'r') as file:\n",
    "        text = file.read()\n",
    "    \n",
    "    if type(search_terms) == str :\n",
    "        search_terms = [search_terms]\n",
    "    \n",
    "    total = 0\n",
    "    max_len = 0\n",
    "    count = []\n",
    "    i = 0\n",
    "    \n",
    "    for term in search_terms :\n",
    "        pattern = r'\\b{}\\b'.format(re.escape(term))\n",
    "        matches = re.findall(pattern, text)\n",
    "        count.insert(1, len(matches))\n",
    "\n",
    "# https://docs.python.org/3/tutorial/datastructures.html\n",
    "# https://python-reference.readthedocs.io/en/latest/docs/list/\n",
    "count[0] \n",
    "count[1] \n",
    "count[2] \n",
    "        \n",
    "        \n",
    "        \n",
    "    if len(search_terms) > 1:     \n",
    "        \n",
    "        #TABELA\n",
    "        \n",
    "        #l = len(term)\n",
    "        \n",
    "        #if max_len < l :\n",
    "        #    max_len = l\n",
    "        \n",
    "        #total = total + count\n",
    "\n",
    "        #print(summary)\n",
    "        \n",
    "        #print(total)\n",
    "        #print(l)\n",
    "\n",
    "\n",
    "        #for i in range(max_len) :\n",
    "        #    print('-', end='')\n",
    "\n",
    "        print()\n",
    "        \n",
    "        # https://www.statology.org/create-table-in-python/\n",
    "        m = pd.Series(count, index = search_terms )\n",
    "        \n",
    "        df = pd.DataFrame(data)\n",
    "        print(m)\n",
    "        \n",
    "\n",
    "    else:\n",
    "        for word, count in word_counts.items():\n",
    "            print(f\"The word '{word}' appears {count} time(s).\")\n",
    "            \n",
    "            \n",
    "\n",
    "\n",
    "file_path = 'pride_and_prejudice.txt'\n",
    "result = word_count_summary(file_path, ['She', 'she'])"
   ]
  },
  {
   "cell_type": "code",
   "execution_count": null,
   "id": "d8708c1d",
   "metadata": {},
   "outputs": [],
   "source": []
  },
  {
   "cell_type": "code",
   "execution_count": null,
   "id": "e704c149",
   "metadata": {},
   "outputs": [],
   "source": []
  }
 ],
 "metadata": {
  "kernelspec": {
   "display_name": "Python 3 (ipykernel)",
   "language": "python",
   "name": "python3"
  },
  "language_info": {
   "codemirror_mode": {
    "name": "ipython",
    "version": 3
   },
   "file_extension": ".py",
   "mimetype": "text/x-python",
   "name": "python",
   "nbconvert_exporter": "python",
   "pygments_lexer": "ipython3",
   "version": "3.11.4"
  }
 },
 "nbformat": 4,
 "nbformat_minor": 5
}
